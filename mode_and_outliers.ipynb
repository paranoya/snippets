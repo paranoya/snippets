{
 "cells": [
  {
   "cell_type": "markdown",
   "id": "a3b18df5-a0d5-4996-b642-c4fc54a63528",
   "metadata": {},
   "source": [
    "# Initialisation"
   ]
  },
  {
   "cell_type": "code",
   "execution_count": null,
   "id": "2d6fa7d4-7a29-48fe-aadb-4e3b69099c2f",
   "metadata": {},
   "outputs": [],
   "source": [
    "%matplotlib ipympl\n",
    "from matplotlib import pyplot as plt\n",
    "import numpy as np\n",
    "from astropy.io import fits\n"
   ]
  },
  {
   "cell_type": "code",
   "execution_count": null,
   "id": "20070d7b-650f-4ece-904e-abe6d9a576ab",
   "metadata": {},
   "outputs": [],
   "source": [
    "def find_mode_and_threshold(x, weights=None, fig_name=None):\n",
    "    if weights is None:\n",
    "        weights = np.ones_like(x)\n",
    "\n",
    "    valid = np.where(np.isfinite(x) & np.isfinite(weights))\n",
    "    n_valid = valid[0].size\n",
    "    sorted_by_x = np.argsort(x[valid].flatten())\n",
    "    sorted_x = x[valid].flatten()[sorted_by_x]\n",
    "    sorted_weight = weights[valid].flatten()[sorted_by_x]\n",
    "\n",
    "    cumulative_mass = np.cumsum(sorted_weight)\n",
    "    total_mass = cumulative_mass[-1]\n",
    "    sorted_weight /= total_mass\n",
    "    cumulative_mass /= total_mass\n",
    "    \n",
    "    \n",
    "    nbins = int(np.sqrt(4*n_valid + 1) - 1)\n",
    "    m_left = np.linspace(0, 0.5, nbins)[1:-1]\n",
    "    m_mid = 2 * m_left\n",
    "    m_right = 0.5 + m_left\n",
    "\n",
    "    x_left = np.interp(m_left, cumulative_mass, sorted_x)\n",
    "    x_mid = np.interp(m_mid, cumulative_mass, sorted_x)\n",
    "    x_right = np.interp(m_right, cumulative_mass, sorted_x)\n",
    "\n",
    "    h = np.fmin(x_right-x_mid, x_mid-x_left)\n",
    "    rho = (np.interp(x_mid+h, sorted_x, cumulative_mass) - np.interp(x_mid-h, sorted_x, cumulative_mass)) /2/h\n",
    "\n",
    "    rho_threshold = np.nanpercentile(rho, 100*(1 - 1/np.sqrt(nbins)))\n",
    "    peak_region = x_mid[rho > rho_threshold]\n",
    "    index_min = np.searchsorted(sorted_x, np.min(peak_region))\n",
    "    index_max = np.searchsorted(sorted_x, np.max(peak_region))\n",
    "    index_mode = (index_min+index_max) // 2\n",
    "    mode = sorted_x[index_mode]\n",
    "    m_mode = cumulative_mass[index_mode]\n",
    "    \n",
    "    rho_bg = np.fmin(rho, np.interp(x_mid, (2*mode - x_mid)[::-1], rho[::-1], left=0, right=0))\n",
    "    total_bg = 2 * m_mode\n",
    "    threshold = sorted_x[int(n_valid * total_bg)]\n",
    "\n",
    "    if fig_name is not None:\n",
    "        plt.close(fig_name)\n",
    "        fig = plt.figure(fig_name, figsize=(8, 5))\n",
    "        axes = fig.subplots(nrows=1, ncols=1, squeeze=False,\n",
    "                            sharex='col', sharey='row',\n",
    "                            gridspec_kw={'hspace': 0, 'wspace': 0},\n",
    "                           )\n",
    "\n",
    "        ax = axes[0, 0]\n",
    "        ax.set_ylabel('probability density')\n",
    "        #ax.set_yscale('log')\n",
    "        ax.plot(x_mid, rho-rho_bg, 'b-', alpha=.5, label='signal')\n",
    "        ax.plot(x_mid, rho_bg, 'r-', alpha=.5, label='background')\n",
    "        ax.plot(x_mid, rho, 'k-', alpha=.5, label='total')\n",
    "\n",
    "\n",
    "        ax.set_xlabel('value')\n",
    "        ax.set_xlim(x_mid[0], threshold + 5*(threshold - mode))\n",
    "\n",
    "        for ax in axes.flatten():\n",
    "            ax.tick_params(which='both', bottom=True, top=True, left=True, right=True)\n",
    "            ax.tick_params(which='major', direction='inout', length=8, grid_alpha=.3)\n",
    "            ax.tick_params(which='minor', direction='in', length=2, grid_alpha=.1)\n",
    "            ax.grid(True, which='both')\n",
    "            ax.axvspan(sorted_x[index_min], sorted_x[index_max], color='k', alpha=.1)\n",
    "            ax.axvline(mode, c='k', ls=':', label=f'mode = {mode:.4g}')\n",
    "            ax.axvline(threshold, c='b', ls='-.', label=f'threshold = {threshold:.4g}')\n",
    "            ax.axvline(2*mode - threshold, c='r', ls='-.', alpha=.5)\n",
    "            ax.legend()\n",
    "\n",
    "        fig.suptitle(fig_name)\n",
    "        fig.set_tight_layout(True)\n",
    "        plt.show()\n",
    "        \n",
    "    return mode, threshold"
   ]
  },
  {
   "cell_type": "markdown",
   "id": "b9dcf291-66ab-419a-9e5b-e35d69d435e7",
   "metadata": {},
   "source": [
    "# AGN classification"
   ]
  },
  {
   "cell_type": "code",
   "execution_count": null,
   "id": "00fb766b-2433-4db6-9f5b-bed7d665c5e7",
   "metadata": {},
   "outputs": [],
   "source": [
    "excess = np.genfromtxt('data/excesses.csv', delimiter=',',\n",
    "                      dtype={'names': ('IR1', 'IR2', 'IR4', 'Radio', 'Soft X', 'Hard X', 'IR color','Radio color', 'X color'),\n",
    "                            'formats': ('f', 'f', 'f', 'f', 'f', 'f', 'f', 'f', 'f')}\n",
    "                      )"
   ]
  },
  {
   "cell_type": "code",
   "execution_count": null,
   "id": "bf42a9bf-7bd2-4d9b-8c9d-12caf08ce3d8",
   "metadata": {},
   "outputs": [],
   "source": [
    "find_mode_and_threshold(excess['IR_color'], fig_name='AGN classification (IR color)')"
   ]
  },
  {
   "cell_type": "code",
   "execution_count": null,
   "id": "b75967e7-7f76-40bc-ad04-7da5c9b866c3",
   "metadata": {},
   "outputs": [],
   "source": [
    "find_mode_and_threshold(excess['Radio_color'], fig_name='AGN classification (IR color)')"
   ]
  },
  {
   "cell_type": "markdown",
   "id": "52da3b0e-595d-4f01-9518-360f3533e0a7",
   "metadata": {},
   "source": [
    "# Source finding"
   ]
  },
  {
   "cell_type": "code",
   "execution_count": null,
   "id": "7474cd7c-4bc5-44f0-ac83-7b20842ab410",
   "metadata": {},
   "outputs": [],
   "source": [
    "hdu = fits.open('data/CIG_335.fits')\n",
    "img = hdu[0].data[3000:4000, 1500:2500] * 1.  # to make sure it's converted to float\n",
    "\n",
    "find_mode_and_threshold(img, fig_name='source finding')"
   ]
  },
  {
   "cell_type": "code",
   "execution_count": null,
   "id": "74f3ab63-61c1-42fb-9a21-3b91db639e34",
   "metadata": {},
   "outputs": [],
   "source": []
  }
 ],
 "metadata": {
  "kernelspec": {
   "display_name": "Python 3 (ipykernel)",
   "language": "python",
   "name": "python3"
  },
  "language_info": {
   "codemirror_mode": {
    "name": "ipython",
    "version": 3
   },
   "file_extension": ".py",
   "mimetype": "text/x-python",
   "name": "python",
   "nbconvert_exporter": "python",
   "pygments_lexer": "ipython3",
   "version": "3.8.10"
  }
 },
 "nbformat": 4,
 "nbformat_minor": 5
}
